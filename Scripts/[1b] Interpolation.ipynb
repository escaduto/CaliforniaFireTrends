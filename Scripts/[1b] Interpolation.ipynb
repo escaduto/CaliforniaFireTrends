{
 "cells": [
  {
   "cell_type": "markdown",
   "metadata": {},
   "source": [
    "# Interpolation"
   ]
  },
  {
   "cell_type": "markdown",
   "metadata": {},
   "source": [
    "## Subsection 1b"
   ]
  },
  {
   "cell_type": "markdown",
   "metadata": {},
   "source": [
    "Continuation of \"Interpolate using Arcpy\" section in the [1]ActiveFires_California.ipynb "
   ]
  },
  {
   "cell_type": "code",
   "execution_count": null,
   "metadata": {},
   "outputs": [],
   "source": [
    "import arcpy\n",
    "from arcpy import env\n",
    "from arcpy.sa import *\n",
    "arcpy.overwriteoutput = True"
   ]
  },
  {
   "cell_type": "code",
   "execution_count": null,
   "metadata": {},
   "outputs": [],
   "source": [
    "rootPath = \"G:\\My Drive\\California FireTrends (2012-2020)\"\n",
    "env.workspace = rootPath"
   ]
  },
  {
   "cell_type": "code",
   "execution_count": null,
   "metadata": {},
   "outputs": [],
   "source": [
    "import arcgisscripting\n",
    "gp = arcgisscripting.create()\n",
    "gp.CheckOutExtension(\"Spatial\")\n",
    "gp.overwriteoutput = True\n",
    "\n",
    "os.chdir(rootPath)"
   ]
  },
  {
   "cell_type": "code",
   "execution_count": null,
   "metadata": {},
   "outputs": [],
   "source": [
    "# get list of files based on directory and extension inputs \n",
    "def listFiles_ByExt(rootPath, ext):\n",
    "    file_list = []\n",
    "    root = rootPath\n",
    "    for path, subdirs, files in os.walk(root):\n",
    "        for names in files: \n",
    "            if names.endswith(ext) and not names.startswith(\"._\"):\n",
    "                file_list.append(os.path.join(path,names))\n",
    "    return(file_list)\n",
    "\n",
    "# Create new folder in root path \n",
    "def createFolder(rootPath, folderName): \n",
    "    folderPath = os.path.join(rootPath, folderName) \n",
    "    if not os.path.exists(folderPath):\n",
    "        os.makedirs(folderPath)\n",
    "    return folderPath + \"\\\\\" "
   ]
  },
  {
   "cell_type": "code",
   "execution_count": null,
   "metadata": {},
   "outputs": [],
   "source": [
    "# Connect to google drive directory as G: Drive in local desktop environment with arcpy installed \n",
    "merged_byfire = listFiles_ByExt('G:\\My Drive\\California_FireTrends\\Data\\FireInstances', '.shp')"
   ]
  },
  {
   "cell_type": "code",
   "execution_count": null,
   "metadata": {},
   "outputs": [],
   "source": [
    "path = 'G:\\My Drive\\California_FireTrends\\Data\\Interpolation'\n",
    "combined_perimeters = 'G:\\My Drive\\California_FireTrends\\Data\\Interagency_FirePerimeters\\CALIFORNIA\\Combined500_2012_2020\\Perimeters500_2012_2020.shp'\n",
    "\n",
    "for i, AF_byFire in enumerate(merged_byfire):\n",
    "    file_nm = os.path.basename(AF_byFire)\n",
    "    fire = file_nm.split('_')[0]\n",
    "    firenm = fire.replace(' ', '')\n",
    "    year = file_nm.split('_')[1]\n",
    "    \n",
    "    final_file_path = os.path.join(path, 'SHP', year, fire, firenm + '_' + year + '_' + 'NAT.shp')\n",
    "    if os.path.exists(final_file_path) == False: \n",
    "        \n",
    "        try: \n",
    "            AF_RASpath = createFolder(path, 'AF_RAS')\n",
    "            yrpath = createFolder(AF_RASpath, year)\n",
    "            outpath = createFolder(yrpath, fire)\n",
    "\n",
    "            print('AF Conversion: ', i, fire, year, os.path.join(outpath, firenm + '_' + year + '_' + 'AFRAS_100m.shp'))\n",
    "            \n",
    "            # Represent earliest day of detection for viirs & m6 merged AF layer \n",
    "            # Reduces bullseye effect and helps prioritize over earliest hot spot detection \n",
    "            AFRAS = arcpy.PointToRaster_conversion(AF_byFire, \"JulianDay\", \n",
    "                                os.path.join(outpath, firenm + '_' + year + '_' + 'AFRAS_100m.tif'), \"MINIMUM\", \"\", 375)\n",
    "\n",
    "            AF_SHPpath = createFolder(path, 'AF_SHP')\n",
    "            yrpath = createFolder(AF_SHPpath, year)\n",
    "            outpath = createFolder(yrpath, fire)\n",
    "\n",
    "            AF_filt = arcpy.RasterToPoint_conversion(AFRAS, \n",
    "                                                     os.path.join(outpath, firenm + '_' + year + '_' + 'AFRAS_100m.shp'), \n",
    "                                                     'VALUE')\n",
    "\n",
    "            # Create new folders to save by year and fire name\n",
    "            raspath = createFolder(path, 'RAS')\n",
    "            yrpath = createFolder(raspath, year)\n",
    "            outpath = createFolder(yrpath, fire)\n",
    "\n",
    "            # Interpolate \n",
    "            print('interpolating: ', fire, year)\n",
    "            outNaturalNeighbor = NaturalNeighbor(AF_filt, \"grid_code\", 100)\n",
    "            outInt = Int(outNaturalNeighbor)\n",
    "\n",
    "            # Mask interpolated raster with interagency perimeter \n",
    "            print('clipping: ', fire, year) \n",
    "\n",
    "            SQL_clause =  \"\\\"IncidentNa\\\" = \" + \"'\" + fire + \"'\" + \" AND \\\"Year\\\" = {0}\".format(int(year)) \n",
    "            print(SQL_clause)\n",
    "            perimeter = arcpy.SelectLayerByAttribute_management(combined_perimeters, \"NEW_SELECTION\", SQL_clause)\n",
    "\n",
    "            outExtractByMask = ExtractByMask(outInt, perimeter)\n",
    "            outMajFilt = MajorityFilter(outExtractByMask, \"EIGHT\", \"MAJORITY\")\n",
    "\n",
    "\n",
    "            outMajFilt.save(os.path.join(outpath, firenm + '_' + year + '_' + 'NAT.tif'))\n",
    "\n",
    "            # Create new folders to save by year and fire name\n",
    "            shppath = createFolder(path, 'SHP')\n",
    "            yrpath = createFolder(shppath, year)\n",
    "            outpath = createFolder(yrpath, fire)\n",
    "\n",
    "            print('Convert to Poly: ', fire, year)\n",
    "            # Convert interpolated surface to polygon layer\n",
    "            shp_out = arcpy.RasterToPolygon_conversion(outExtractByMask, \n",
    "                                             os.path.join(outpath, firenm + '_' + year + '_' + 'NAT.shp') , \n",
    "                                             \"NO_SIMPLIFY\", \"VALUE\")\n",
    "\n",
    "            # Smooth out edges of polygon\n",
    "            arcpy.SmoothSharedEdges_cartography(shp_out, \"PAEK\", \"5 Kilometers\")\n",
    "\n",
    "            print('saved ', firenm + '_' + year + '_' + 'NAT.shp')\n",
    "        except:\n",
    "                print('error: ', fire, year)\n",
    "                continue\n",
    "            "
   ]
  }
 ],
 "metadata": {
  "kernelspec": {
   "display_name": "Python 3",
   "language": "python",
   "name": "python3"
  },
  "language_info": {
   "codemirror_mode": {
    "name": "ipython",
    "version": 3
   },
   "file_extension": ".py",
   "mimetype": "text/x-python",
   "name": "python",
   "nbconvert_exporter": "python",
   "pygments_lexer": "ipython3",
   "version": "3.6.10"
  }
 },
 "nbformat": 4,
 "nbformat_minor": 4
}
